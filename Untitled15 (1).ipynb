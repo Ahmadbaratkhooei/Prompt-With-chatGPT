{
 "cells": [
  {
   "cell_type": "code",
   "execution_count": 1,
   "id": "17b1018c-acc7-4118-be5e-f380bac58160",
   "metadata": {},
   "outputs": [],
   "source": [
    "!pip install openai ipywidgets -q"
   ]
  },
  {
   "cell_type": "code",
   "execution_count": 2,
   "id": "510f31e1-2fab-415e-ae7f-4159eaadb92a",
   "metadata": {},
   "outputs": [],
   "source": [
    "!pip install openai==0.28 -q"
   ]
  },
  {
   "cell_type": "code",
   "execution_count": 3,
   "id": "d20af9f8-0eb1-406c-8533-35896d5196e3",
   "metadata": {},
   "outputs": [],
   "source": [
    "import openai\n",
    "import ipywidgets as widgets\n",
    "from IPython.display import display, clear_output"
   ]
  },
  {
   "cell_type": "code",
   "execution_count": 4,
   "id": "2c3607e3-65d7-477b-b41f-6822d09fbaae",
   "metadata": {},
   "outputs": [],
   "source": [
    "# Initialisieren des OpenAI-Clients mit dem bereitgestellten API-Schlüssel\n",
    "api_key = \".....\"\n",
    "openai.api_key = api_key\n",
    "\n",
    "# Widgets für die Eingabe von Aufgaben\n",
    "aufgabe_text = widgets.Textarea(\n",
    "    description='Aufgabe',\n",
    "    layout=widgets.Layout(width='50%', height='100px')\n",
    ")\n",
    "\n",
    "aufgabe_senden_button = widgets.Button(\n",
    "    description='Senden',\n",
    "    tooltip='Aufgabe senden',\n",
    "    icon='check'\n",
    ")\n",
    "\n",
    "aufgabe_output_area = widgets.Output()\n",
    "\n",
    "# Widgets für die Eingabe von Fragen\n",
    "frage_text = widgets.Textarea(\n",
    "    description='Frage: ',\n",
    "    layout=widgets.Layout(width='50%', height='100px')\n",
    ")\n",
    "\n",
    "frage_senden_button = widgets.Button(\n",
    "    description='Senden',\n",
    "    tooltip='Frage senden',\n",
    "    icon='check'\n",
    ")\n",
    "\n",
    "frage_output_area = widgets.Output()\n",
    "\n",
    "# Widget für die Eingabe von Kommentaren\n",
    "kommentar_text = widgets.Textarea(\n",
    "    description='Kommentar: ',\n",
    "    layout=widgets.Layout(width='50%', height='100px')\n",
    ")\n",
    "\n",
    "kommentar_senden_button = widgets.Button(\n",
    "    description='Senden',\n",
    "    tooltip='Kommentar senden',\n",
    "    icon='check'\n",
    ")\n",
    "\n",
    "kommentar_output_area = widgets.Output()"
   ]
  },
  {
   "cell_type": "code",
   "execution_count": 5,
   "id": "aebf96de-305b-401f-bc11-5935df574eca",
   "metadata": {},
   "outputs": [],
   "source": [
    "\n",
    "# Chat-Historien für Aufgaben, Fragen und Kommentare\n",
    "aufgabe_chat_history = []\n",
    "frage_chat_history = []\n",
    "kommentar_chat_history = []"
   ]
  },
  {
   "cell_type": "code",
   "execution_count": 6,
   "id": "483d7faf-ae2a-412b-a480-381453a90878",
   "metadata": {},
   "outputs": [],
   "source": [
    "# System-Prompt für den Java-Lehrer\n",
    "system_prompt_java_lehrer = \"\"\"\\\n",
    "Ich bin Java-Lehrer an einer Universität und unterstütze Studenten bei ihren Hausaufgaben. \n",
    "Ich gebe nicht die vollständigen Antworten auf die Übungen, sondern weise die Schüler auf ihre Fehler hin und helfe ihnen, \n",
    "die Java-Übungen anhand von Anleitungen und Beispielen zu lösen. \n",
    "Gib dem Studenten nur Hinweise und Tipps, aber nicht die vollständige Lösung. \n",
    "Vermeide es, komplette Codebeispiele zu geben. Wenn eine Beispielcode erforderlich ist, \n",
    "halte es kurz und vermeide die vollständige Lösung der gestellten Aufgabe.\n",
    "Beantworte nur Fragen, die sich auf Java beziehen. Ignoriere Fragen, die sich nicht auf Java beziehen.\n",
    "\"\"\"\n",
    "\n",
    "# System-Prompt für den Evaluator\n",
    "system_prompt_evaluator = \"\"\"\\\n",
    "Du bist ein Experte für Java-Programmierung und dein Ziel ist es, Vermeide es, komplette Codebeispiele zu geben. Wenn eine Beispielcode erforderlich ist, \n",
    "halte es kurz und vermeide die vollständige Lösung der gestellten Aufgabe.\n",
    "die Qualität der Antworten des Java-Lehrers zu bewerten. \n",
    "Prüfe die Antwort des Java-Lehrers auf Richtigkeit, Vollständigkeit und Nützlichkeit. \n",
    "Gib eine Bewertung in Prozent von 0 bis 100 und eine kurze Erklärung für deine Bewertung.\n",
    "\"\"\""
   ]
  },
  {
   "cell_type": "code",
   "execution_count": 9,
   "id": "8b2e5cf4-f0bd-4828-9024-3f61929a538a",
   "metadata": {},
   "outputs": [],
   "source": [
    "# Callback-Funktion für den Senden-Button der Aufgaben\n",
    "def aufgabe_senden_button_clicked(b):\n",
    "    global aufgabe_chat_history\n",
    "    benutzer_aufgabe = aufgabe_text.value\n",
    "\n",
    "    # Speichern der Benutzeraufgabe in der Chat-Historie\n",
    "    aufgabe_chat_history.append({\"role\": \"user\", \"content\": benutzer_aufgabe})\n",
    "\n",
    "    # Erstellen des Prompts mit dem System-Prompt und der Chat-Historie\n",
    "    modell_prompt_java_lehrer = [{\"role\": \"system\", \"content\": system_prompt_java_lehrer}] + aufgabe_chat_history\n",
    "\n",
    "    # Abrufen der Antwort von OpenAI für Java-Lehrer\n",
    "    response_java_lehrer = openai.ChatCompletion.create(\n",
    "        model=\"gpt-4-turbo\",\n",
    "        messages=modell_prompt_java_lehrer,\n",
    "        max_tokens=150,\n",
    "        n=1,\n",
    "        stop=None,\n",
    "        temperature=0.7,\n",
    "    )\n",
    "      # Speichern der Systemantwort in der Chat-Historie\n",
    "    system_antwort = response_java_lehrer.choices[0].message['content'].strip()\n",
    "    aufgabe_chat_history.append({\"role\": \"assistant\", \"content\": system_antwort})\n",
    "\n",
    "    # Anzeige der Antwort im Aufgabenbereich\n",
    "    with aufgabe_output_area:\n",
    "        clear_output()\n",
    "        display(widgets.HTML(f\"<b>Aufgabe:</b> {benutzer_aufgabe}\"))\n",
    "        display(widgets.HTML(f\"<b>Java-Lehrer antwortet:</b> {system_antwort}\"))\n",
    "\n",
    "    # Abrufen und Anzeigen der Evaluierung der Antwort\n",
    "    evaluate_java_teacher_response(benutzer_aufgabe, system_antwort, aufgabe_output_area)\n"
   ]
  },
  {
   "cell_type": "code",
   "execution_count": 10,
   "id": "57b2ba3f-30c8-4d71-9fdf-d38b50c9e6f7",
   "metadata": {},
   "outputs": [],
   "source": [
    "# Callback-Funktion für den Senden-Button der Fragen\n",
    "def frage_senden_button_clicked(b):\n",
    "    global frage_chat_history\n",
    "    benutzer_frage = frage_text.value\n",
    "\n",
    "    # Speichern der Benutzerfrage in der Chat-Historie\n",
    "    frage_chat_history.append({\"role\": \"user\", \"content\": benutzer_frage})\n",
    "\n",
    "    # Erstellen des Prompts mit dem System-Prompt und der Chat-Historie\n",
    "    modell_prompt_andere_fragen = [{\"role\": \"system\", \"content\": system_prompt_java_lehrer}] + frage_chat_history\n",
    "\n",
    "    # Abrufen der Antwort von OpenAI für nicht-Java-Fragen\n",
    "    response_andere_fragen = openai.ChatCompletion.create(\n",
    "        model=\"gpt-4-turbo\",\n",
    "        messages=modell_prompt_andere_fragen,\n",
    "        max_tokens=150,\n",
    "        n=1,\n",
    "        stop=None,\n",
    "        temperature=0.7,\n",
    "    )\n",
    "\n",
    "    # Speichern der Systemantwort in der Chat-Historie\n",
    "    system_antwort = response_andere_fragen.choices[0].message['content'].strip()\n",
    "    frage_chat_history.append({\"role\": \"assistant\", \"content\": system_antwort})\n",
    "\n",
    "    # Anzeige der Antwort und Bewertung im Fragenbereich\n",
    "    with frage_output_area:\n",
    "        clear_output()\n",
    "        display(widgets.HTML(f\"<b>Frage:</b> {benutzer_frage}\"))\n",
    "        display(widgets.HTML(f\"<b>Antwort:</b> {system_antwort}\"))\n",
    "\n",
    "    # Evaluieren und Anzeigen der Antwort auf die Frage\n",
    "    evaluate_java_teacher_response(benutzer_frage, system_antwort, frage_output_area)"
   ]
  },
  {
   "cell_type": "code",
   "execution_count": 11,
   "id": "19f239d4-544c-4337-8616-666826085fe2",
   "metadata": {},
   "outputs": [],
   "source": [
    "\n",
    "# Callback-Funktion für den Senden-Button der Kommentare\n",
    "def kommentar_senden_button_clicked(b):\n",
    "    global aufgabe_chat_history, frage_chat_history, kommentar_chat_history\n",
    "    kommentar = kommentar_text.value\n",
    "\n",
    "    # Prüfen, ob der Kommentar auf eine Aufgabe, eine Frage oder einen vorherigen Kommentar bezogen ist\n",
    "    if len(aufgabe_chat_history) > 0:\n",
    "        chat_history = aufgabe_chat_history\n",
    "    elif len(frage_chat_history) > 0:\n",
    "        chat_history = frage_chat_history\n",
    "    elif len(kommentar_chat_history) > 0:\n",
    "        chat_history = kommentar_chat_history\n",
    "    else:\n",
    "        return  # Sollte normalerweise nicht auftreten, da immer eine der Chat-Historien gefüllt sein sollte\n",
    "\n",
    "    # Speichern des Kommentars in der entsprechenden Chat-Historie\n",
    "    chat_history.append({\"role\": \"user\", \"content\": kommentar})\n",
    "\n",
    "    # Erstellen des Prompts mit dem System-Prompt und der Chat-Historie\n",
    "    modell_prompt_java_lehrer = [{\"role\": \"system\", \"content\": system_prompt_java_lehrer}] + chat_history\n",
    "\n",
    "    # Abrufen der Antwort von OpenAI für den Java-Lehrer\n",
    "    response_java_lehrer = openai.ChatCompletion.create(\n",
    "       model=\"gpt-4-turbo\",\n",
    "        messages=modell_prompt_java_lehrer,\n",
    "        max_tokens=150,\n",
    "        n=1,\n",
    "        stop=None,\n",
    "        temperature=0.7,\n",
    "    )\n",
    "\n",
    "    # Speichern der Systemantwort in der Chat-Historie\n",
    "    system_antwort = response_java_lehrer.choices[0].message['content'].strip()\n",
    "    chat_history.append({\"role\": \"assistant\", \"content\": system_antwort})\n",
    "\n",
    "    # Anzeige des Kommentars und der Antwort im entsprechenden Bereich\n",
    "    if len(aufgabe_chat_history) > 0:\n",
    "        with aufgabe_output_area:\n",
    "            clear_output()\n",
    "            display(widgets.HTML(f\"<b>Kommentar:</b> {kommentar}\"))\n",
    "            display(widgets.HTML(f\"<b>Java-Lehrer antwortet:</b> {system_antwort}\"))\n",
    "    elif len(frage_chat_history) > 0:\n",
    "        with frage_output_area:\n",
    "            clear_output()\n",
    "            display(widgets.HTML(f\"<b>Kommentar:</b> {kommentar}\"))\n",
    "            display(widgets.HTML(f\"<b>Java-Lehrer antwortet:</b> {system_antwort}\"))\n",
    "    elif len(kommentar_chat_history) > 0:\n",
    "        with kommentar_output_area:\n",
    "            clear_output()\n",
    "            display(widgets.HTML(f\"<b>Kommentar:</b> {kommentar}\"))\n",
    "            display(widgets.HTML(f\"<b>Java-Lehrer antwortet:</b> {system_antwort}\"))\n",
    "\n",
    "    # Evaluieren und Anzeigen der Antwort auf den Kommentar\n",
    "    evaluate_java_teacher_response(kommentar, system_antwort, kommentar_output_area)"
   ]
  },
  {
   "cell_type": "code",
   "execution_count": 12,
   "id": "a19ec511-1c94-418d-a5a0-d83524df2a9e",
   "metadata": {},
   "outputs": [
    {
     "data": {
      "application/vnd.jupyter.widget-view+json": {
       "model_id": "901be5b016c54ac0be12571299cf86da",
       "version_major": 2,
       "version_minor": 0
      },
      "text/plain": [
       "Textarea(value='', description='Aufgabe', layout=Layout(height='100px', width='50%'))"
      ]
     },
     "metadata": {},
     "output_type": "display_data"
    },
    {
     "data": {
      "application/vnd.jupyter.widget-view+json": {
       "model_id": "22b9db20d1364a36bcb290adf3133585",
       "version_major": 2,
       "version_minor": 0
      },
      "text/plain": [
       "Button(description='Senden', icon='check', style=ButtonStyle(), tooltip='Aufgabe senden')"
      ]
     },
     "metadata": {},
     "output_type": "display_data"
    },
    {
     "data": {
      "application/vnd.jupyter.widget-view+json": {
       "model_id": "b3055a0ca88b4708977357053afc32e9",
       "version_major": 2,
       "version_minor": 0
      },
      "text/plain": [
       "Output()"
      ]
     },
     "metadata": {},
     "output_type": "display_data"
    },
    {
     "data": {
      "application/vnd.jupyter.widget-view+json": {
       "model_id": "705d469bd49f4ef2a21213bb55ddc7ca",
       "version_major": 2,
       "version_minor": 0
      },
      "text/plain": [
       "Textarea(value='', description='Frage: ', layout=Layout(height='100px', width='50%'))"
      ]
     },
     "metadata": {},
     "output_type": "display_data"
    },
    {
     "data": {
      "application/vnd.jupyter.widget-view+json": {
       "model_id": "2678aa17984742748b74d1905ce0c871",
       "version_major": 2,
       "version_minor": 0
      },
      "text/plain": [
       "Button(description='Senden', icon='check', style=ButtonStyle(), tooltip='Frage senden')"
      ]
     },
     "metadata": {},
     "output_type": "display_data"
    },
    {
     "data": {
      "application/vnd.jupyter.widget-view+json": {
       "model_id": "07aa6399c2b14181a94e522241526e32",
       "version_major": 2,
       "version_minor": 0
      },
      "text/plain": [
       "Output()"
      ]
     },
     "metadata": {},
     "output_type": "display_data"
    },
    {
     "data": {
      "application/vnd.jupyter.widget-view+json": {
       "model_id": "58ce24020e69430a93698869ef8de91f",
       "version_major": 2,
       "version_minor": 0
      },
      "text/plain": [
       "Textarea(value='', description='Kommentar: ', layout=Layout(height='100px', width='50%'))"
      ]
     },
     "metadata": {},
     "output_type": "display_data"
    },
    {
     "data": {
      "application/vnd.jupyter.widget-view+json": {
       "model_id": "32273fa519d940e584835f5df1b5be5e",
       "version_major": 2,
       "version_minor": 0
      },
      "text/plain": [
       "Button(description='Senden', icon='check', style=ButtonStyle(), tooltip='Kommentar senden')"
      ]
     },
     "metadata": {},
     "output_type": "display_data"
    },
    {
     "data": {
      "application/vnd.jupyter.widget-view+json": {
       "model_id": "20d29e29be2443d2ac65d7d68b764587",
       "version_major": 2,
       "version_minor": 0
      },
      "text/plain": [
       "Output()"
      ]
     },
     "metadata": {},
     "output_type": "display_data"
    }
   ],
   "source": [
    "# Funktion zur Evaluierung der Antwort des Java-Lehrers\n",
    "def evaluate_java_teacher_response(aufgabe_frage_kommentar, antwort, output_area):\n",
    "    global aufgabe_chat_history, frage_chat_history, kommentar_chat_history\n",
    "\n",
    "    # Bestimmen des entsprechenden Prompts und der Chat-Historie\n",
    "    if len(aufgabe_chat_history) > 0:\n",
    "        system_prompt = system_prompt_evaluator\n",
    "        chat_history = aufgabe_chat_history\n",
    "    elif len(frage_chat_history) > 0:\n",
    "        system_prompt = system_prompt_evaluator\n",
    "        chat_history = frage_chat_history\n",
    "    elif len(kommentar_chat_history) > 0:\n",
    "        system_prompt = system_prompt_evaluator\n",
    "        chat_history = kommentar_chat_history\n",
    "    else:\n",
    "        return  # Sollte normalerweise nicht auftreten, da immer eine der Chat-Historien gefüllt sein sollte\n",
    "\n",
    "    # Erstellen des Prompts mit dem System-Prompt und der Chat-Historie\n",
    "    modell_prompt = [{\"role\": \"system\", \"content\": system_prompt}] + chat_history\n",
    "\n",
    "    # Abrufen der Bewertung von OpenAI für den Evaluator\n",
    "    response_evaluator = openai.ChatCompletion.create(\n",
    "        model=\"gpt-3.5-turbo\",\n",
    "        messages=[\n",
    "            {\"role\": \"system\", \"content\": system_prompt_evaluator},\n",
    "            {\"role\": \"user\", \"content\": f\"{aufgabe_frage_kommentar}\\n\\nAntwort des Java-Lehrers: {antwort}\"}\n",
    "        ],\n",
    "        max_tokens=150,\n",
    "        n=1,\n",
    "        stop=None,\n",
    "        temperature=0.7,\n",
    "    )\n",
    "\n",
    "    # Extrahieren der Bewertung und der Erklärung\n",
    "    evaluator_antwort = response_evaluator.choices[0].message['content'].strip()\n",
    "    bewertung, erklaerung = evaluator_antwort.split('%', 1)\n",
    "    bewertung = bewertung.strip() + '%'\n",
    "\n",
    "    # Anzeige der Bewertung und Erklärung im entsprechenden Bereich\n",
    "    with output_area:\n",
    "        display(widgets.HTML(f\"<b>Bewertung der Antwort:</b> {bewertung}\"))\n",
    "\n",
    "# Verknüpfen der Callback-Funktionen mit den entsprechenden Senden-Buttons\n",
    "aufgabe_senden_button.on_click(aufgabe_senden_button_clicked)\n",
    "frage_senden_button.on_click(frage_senden_button_clicked)\n",
    "kommentar_senden_button.on_click(kommentar_senden_button_clicked)\n",
    "\n",
    "# Anzeigen der Widgets für Aufgaben, Fragen und Kommentare\n",
    "display(aufgabe_text, aufgabe_senden_button, aufgabe_output_area)\n",
    "display(frage_text, frage_senden_button, frage_output_area)\n",
    "display(kommentar_text, kommentar_senden_button, kommentar_output_area)\n"
   ]
  },
  {
   "cell_type": "code",
   "execution_count": null,
   "id": "d6925b07-9a55-4bbd-882d-c43d25991afb",
   "metadata": {},
   "outputs": [],
   "source": []
  }
 ],
 "metadata": {
  "kernelspec": {
   "display_name": "Python 3 (ipykernel)",
   "language": "python",
   "name": "python3"
  },
  "language_info": {
   "codemirror_mode": {
    "name": "ipython",
    "version": 3
   },
   "file_extension": ".py",
   "mimetype": "text/x-python",
   "name": "python",
   "nbconvert_exporter": "python",
   "pygments_lexer": "ipython3",
   "version": "3.11.9"
  }
 },
 "nbformat": 4,
 "nbformat_minor": 5
}
